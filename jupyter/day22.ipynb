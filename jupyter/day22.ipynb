{
 "cells": [
  {
   "cell_type": "markdown",
   "metadata": {
    "ExecuteTime": {
     "end_time": "2019-12-13T12:38:24.403457Z",
     "start_time": "2019-12-13T12:38:24.393213Z"
    }
   },
   "source": [
    "[current dir](.)"
   ]
  },
  {
   "cell_type": "code",
   "execution_count": 1,
   "metadata": {
    "ExecuteTime": {
     "end_time": "2019-12-21T23:34:36.146016Z",
     "start_time": "2019-12-21T23:34:36.141189Z"
    }
   },
   "outputs": [],
   "source": [
    "filename = 'inputs/day22.txt'\n",
    "\n",
    "with open(filename) as file:\n",
    "    input = file.read().splitlines()"
   ]
  },
  {
   "cell_type": "code",
   "execution_count": 2,
   "metadata": {
    "ExecuteTime": {
     "end_time": "2019-12-21T23:34:36.167941Z",
     "start_time": "2019-12-21T23:34:36.148252Z"
    }
   },
   "outputs": [
    {
     "data": {
      "text/plain": [
       "['deal with increment 21',\n",
       " 'deal into new stack',\n",
       " 'deal with increment 52',\n",
       " 'deal into new stack',\n",
       " 'deal with increment 19']"
      ]
     },
     "execution_count": 2,
     "metadata": {},
     "output_type": "execute_result"
    }
   ],
   "source": [
    "input[:5]"
   ]
  },
  {
   "cell_type": "code",
   "execution_count": 3,
   "metadata": {
    "ExecuteTime": {
     "end_time": "2019-12-21T23:34:36.325254Z",
     "start_time": "2019-12-21T23:34:36.169997Z"
    }
   },
   "outputs": [],
   "source": [
    "def setup(instructions, N):\n",
    "    cards = (1, 0) #(A, B) such that, for card x, position of x = (x*A+B)%N\n",
    "    for instruction in instructions:\n",
    "        if instruction.startswith(\"deal i\"): #deal into new stack\n",
    "            cards = ((-cards[0])%N, (-cards[1]-1)%N) # x' = N-1 - x = -(x+1) (circular)\n",
    "        elif instruction.startswith(\"cut\"): # cut at N, a.k.a shift\n",
    "            shift = int(instruction[3:].strip())\n",
    "            cards = (cards[0], (cards[1]-shift)%N) # x' = x - shift\n",
    "        else: #if instruction.startswith(\"deal w\"): #deal with increment\n",
    "            n = int(instruction[len(\"deal with increment\"):].strip())\n",
    "            cards = ((cards[0]*n)%N, (cards[1]*n)%N) # x' = inc * (x+1)\n",
    "    return cards"
   ]
  },
  {
   "cell_type": "code",
   "execution_count": 4,
   "metadata": {},
   "outputs": [],
   "source": [
    "def egcd(a, b): #euclidean GCD\n",
    "    if a == 0:\n",
    "        return (b, 0, 1)\n",
    "    else:\n",
    "        g, y, x = egcd(b % a, a)\n",
    "        return (g, x - (b // a) * y, y)\n",
    "\n",
    "def mod_inv(a, m): #modular multiplicative inverse\n",
    "    _, x, _ = egcd(a, m)\n",
    "    return egcd(a, m)[1] % m\n",
    "    \n",
    "def mod_pow(a, b, n): #modular exponentiation\n",
    "    if b == 1:\n",
    "        return a\n",
    "    if b%2 == 0:\n",
    "        return mod_pow(a, b//2, n)**2 % n\n",
    "    if b%2 == 1:\n",
    "        return a*mod_pow(a, b-1, n) % n\n",
    "\n",
    "def run_cycles(input, cycles, N):\n",
    "    a, b = setup(input, N) #setup formula\n",
    "    #after 1 time:  i' = i*a + b\n",
    "    #after n times: i' = i*a^n + b*(sum j=0..n-1 a^j) = i*a^n + b*(a^n-1)/(a-1)\n",
    "    an = mod_pow(a, cycles, N) #\"run\" for cycles\n",
    "    return an, b*(an-1) * mod_inv(a-1, N)"
   ]
  },
  {
   "cell_type": "markdown",
   "metadata": {},
   "source": [
    "Part 1"
   ]
  },
  {
   "cell_type": "code",
   "execution_count": 5,
   "metadata": {
    "ExecuteTime": {
     "end_time": "2019-12-21T23:34:36.335620Z",
     "start_time": "2019-12-21T23:34:36.327828Z"
    }
   },
   "outputs": [
    {
     "name": "stdout",
     "output_type": "stream",
     "text": [
      "2306\n"
     ]
    }
   ],
   "source": [
    "def part1():\n",
    "    cycles, N = 1, 10007\n",
    "    A, B = run_cycles(input, cycles, N)\n",
    "    print((2019 * A + B) % N) #plainly apply formula to know position of card 2019\n",
    "\n",
    "part1()"
   ]
  },
  {
   "cell_type": "markdown",
   "metadata": {},
   "source": [
    "Part 2"
   ]
  },
  {
   "cell_type": "code",
   "execution_count": 6,
   "metadata": {
    "ExecuteTime": {
     "end_time": "2019-12-21T23:34:36.647948Z",
     "start_time": "2019-12-21T23:34:36.337177Z"
    }
   },
   "outputs": [
    {
     "name": "stdout",
     "output_type": "stream",
     "text": [
      "12545532223512\n"
     ]
    }
   ],
   "source": [
    "def part2():\n",
    "    cycles, N = 101741582076661, 119315717514047\n",
    "    A, B = run_cycles(input, cycles, N)\n",
    "    print((2020 - B)*mod_inv(A, N) % N) #reverse formula to obtain card at position 2020\n",
    "\n",
    "part2()"
   ]
  }
 ],
 "metadata": {
  "kernelspec": {
   "display_name": "Python 3",
   "language": "python",
   "name": "python3"
  },
  "language_info": {
   "codemirror_mode": {
    "name": "ipython",
    "version": 3
   },
   "file_extension": ".py",
   "mimetype": "text/x-python",
   "name": "python",
   "nbconvert_exporter": "python",
   "pygments_lexer": "ipython3",
   "version": "3.7.4"
  },
  "varInspector": {
   "cols": {
    "lenName": 16,
    "lenType": 16,
    "lenVar": 40
   },
   "kernels_config": {
    "python": {
     "delete_cmd_postfix": "",
     "delete_cmd_prefix": "del ",
     "library": "var_list.py",
     "varRefreshCmd": "print(var_dic_list())"
    },
    "r": {
     "delete_cmd_postfix": ") ",
     "delete_cmd_prefix": "rm(",
     "library": "var_list.r",
     "varRefreshCmd": "cat(var_dic_list()) "
    }
   },
   "types_to_exclude": [
    "module",
    "function",
    "builtin_function_or_method",
    "instance",
    "_Feature"
   ],
   "window_display": false
  }
 },
 "nbformat": 4,
 "nbformat_minor": 2
}
