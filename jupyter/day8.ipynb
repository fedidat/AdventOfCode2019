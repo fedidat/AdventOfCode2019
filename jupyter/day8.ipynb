{
 "cells": [
  {
   "cell_type": "markdown",
   "metadata": {},
   "source": [
    "[current dir](.)"
   ]
  },
  {
   "cell_type": "code",
   "execution_count": 1,
   "metadata": {
    "ExecuteTime": {
     "end_time": "2019-12-08T23:36:38.637381Z",
     "start_time": "2019-12-08T23:36:38.629188Z"
    }
   },
   "outputs": [],
   "source": [
    "filename = 'inputs/day8.txt'\n",
    "with open(filename) as file:\n",
    "    input = [int(i) for i in list(file.read())]"
   ]
  },
  {
   "cell_type": "code",
   "execution_count": 2,
   "metadata": {
    "ExecuteTime": {
     "end_time": "2019-12-08T23:36:38.651543Z",
     "start_time": "2019-12-08T23:36:38.640354Z"
    }
   },
   "outputs": [
    {
     "name": "stdout",
     "output_type": "stream",
     "text": [
      "[2, 2, 2, 2, 0] 15000\n"
     ]
    }
   ],
   "source": [
    "print(input[:5], len(input))"
   ]
  },
  {
   "cell_type": "code",
   "execution_count": 3,
   "metadata": {
    "ExecuteTime": {
     "end_time": "2019-12-08T23:36:38.689391Z",
     "start_time": "2019-12-08T23:36:38.653610Z"
    }
   },
   "outputs": [],
   "source": [
    "(width,height) = (25, 6)\n",
    "pixels = input.copy()\n",
    "layers = []\n",
    "\n",
    "def setup():\n",
    "    while pixels:\n",
    "        layer = []\n",
    "        for i in range(height):\n",
    "            line = []\n",
    "            for j in range(width):\n",
    "                line.append(pixels.pop(0))\n",
    "            layer.append(line)\n",
    "        layers.append(layer)\n",
    "        \n",
    "setup()"
   ]
  },
  {
   "cell_type": "markdown",
   "metadata": {},
   "source": [
    "Part 1"
   ]
  },
  {
   "cell_type": "code",
   "execution_count": 4,
   "metadata": {
    "ExecuteTime": {
     "end_time": "2019-12-08T23:36:38.702500Z",
     "start_time": "2019-12-08T23:36:38.691453Z"
    }
   },
   "outputs": [
    {
     "name": "stdout",
     "output_type": "stream",
     "text": [
      "1572\n"
     ]
    }
   ],
   "source": [
    "def part1():\n",
    "    min_0 = min(layers, key=lambda layer: sum(l.count(0) for l in layer))\n",
    "    print(sum(l.count(1) for l in min_0) * sum(l.count(2) for l in min_0))\n",
    "    \n",
    "part1()"
   ]
  },
  {
   "cell_type": "markdown",
   "metadata": {},
   "source": [
    "Part 2"
   ]
  },
  {
   "cell_type": "code",
   "execution_count": 5,
   "metadata": {
    "ExecuteTime": {
     "end_time": "2019-12-08T23:36:38.718740Z",
     "start_time": "2019-12-08T23:36:38.705004Z"
    }
   },
   "outputs": [
    {
     "name": "stdout",
     "output_type": "stream",
     "text": [
      "█  █ █   ██  █ ████ ████ \n",
      "█ █  █   ██  █ █    █    \n",
      "██    █ █ ████ ███  ███  \n",
      "█ █    █  █  █ █    █    \n",
      "█ █    █  █  █ █    █    \n",
      "█  █   █  █  █ █    ████ \n"
     ]
    }
   ],
   "source": [
    "def part2():\n",
    "    layout = [ [ 2 for i in range(width) ] for j in range(height) ] \n",
    "    for i in range(height):\n",
    "        for j in range(width):\n",
    "            for l in range(len(layers)):\n",
    "                if layers[l][i][j] != 2 and layout[i][j] == 2:\n",
    "                    layout[i][j] = layers[l][i][j]\n",
    "    for i in range(height):\n",
    "        for j in range(width):\n",
    "            print('█' if layout[i][j] == 1 else ' ', end='')\n",
    "        print()\n",
    "    \n",
    "part2()"
   ]
  }
 ],
 "metadata": {
  "file_extension": ".py",
  "kernelspec": {
   "display_name": "Python 3",
   "language": "python",
   "name": "python3"
  },
  "language_info": {
   "codemirror_mode": {
    "name": "ipython",
    "version": 3
   },
   "file_extension": ".py",
   "mimetype": "text/x-python",
   "name": "python",
   "nbconvert_exporter": "python",
   "pygments_lexer": "ipython3",
   "version": "3.7.0"
  },
  "mimetype": "text/x-python",
  "name": "python",
  "npconvert_exporter": "python",
  "pygments_lexer": "ipython3",
  "varInspector": {
   "cols": {
    "lenName": 16,
    "lenType": 16,
    "lenVar": 40
   },
   "kernels_config": {
    "python": {
     "delete_cmd_postfix": "",
     "delete_cmd_prefix": "del ",
     "library": "var_list.py",
     "varRefreshCmd": "print(var_dic_list())"
    },
    "r": {
     "delete_cmd_postfix": ") ",
     "delete_cmd_prefix": "rm(",
     "library": "var_list.r",
     "varRefreshCmd": "cat(var_dic_list()) "
    }
   },
   "types_to_exclude": [
    "module",
    "function",
    "builtin_function_or_method",
    "instance",
    "_Feature"
   ],
   "window_display": false
  },
  "version": 3
 },
 "nbformat": 4,
 "nbformat_minor": 2
}
