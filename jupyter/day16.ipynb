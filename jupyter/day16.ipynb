{
 "cells": [
  {
   "cell_type": "markdown",
   "metadata": {
    "ExecuteTime": {
     "end_time": "2019-12-13T12:38:24.403457Z",
     "start_time": "2019-12-13T12:38:24.393213Z"
    }
   },
   "source": [
    "[current dir](.)"
   ]
  },
  {
   "cell_type": "code",
   "execution_count": 1,
   "metadata": {
    "ExecuteTime": {
     "end_time": "2019-12-16T22:32:09.618425Z",
     "start_time": "2019-12-16T22:32:09.615574Z"
    }
   },
   "outputs": [],
   "source": [
    "filename = 'inputs/day16.txt'\n",
    "with open(filename) as file:\n",
    "    inputstr = file.read()\n",
    "    \n",
    "input = [int(n) for n in list(inputstr)]"
   ]
  },
  {
   "cell_type": "code",
   "execution_count": 2,
   "metadata": {
    "ExecuteTime": {
     "end_time": "2019-12-16T22:32:09.633834Z",
     "start_time": "2019-12-16T22:32:09.619910Z"
    }
   },
   "outputs": [
    {
     "data": {
      "text/plain": [
       "[5, 9, 7, 6, 2]"
      ]
     },
     "execution_count": 2,
     "metadata": {},
     "output_type": "execute_result"
    }
   ],
   "source": [
    "input[:5]"
   ]
  },
  {
   "cell_type": "markdown",
   "metadata": {},
   "source": [
    "Part 1"
   ]
  },
  {
   "cell_type": "code",
   "execution_count": 3,
   "metadata": {
    "ExecuteTime": {
     "end_time": "2019-12-16T22:32:16.414907Z",
     "start_time": "2019-12-16T22:32:09.635298Z"
    }
   },
   "outputs": [
    {
     "name": "stdout",
     "output_type": "stream",
     "text": [
      "77038830\n"
     ]
    }
   ],
   "source": [
    "def part1():\n",
    "    signal = input\n",
    "    pattern = [0,1,0,-1]\n",
    "    for phase in range(100):\n",
    "        signal = [0]+signal\n",
    "        res = [sum(signal[j]*pattern[(j//(i+1))%4] \n",
    "                   for j in range(len(signal))\n",
    "               ) for i in range(len(signal))]\n",
    "        signal = [abs(r)%10 for r in res]\n",
    "    print(''.join([str(signal[i]) for i in range(8)]))\n",
    "\n",
    "part1()"
   ]
  },
  {
   "cell_type": "markdown",
   "metadata": {},
   "source": [
    "Part 2"
   ]
  },
  {
   "cell_type": "code",
   "execution_count": 4,
   "metadata": {
    "ExecuteTime": {
     "end_time": "2019-12-16T22:32:21.281807Z",
     "start_time": "2019-12-16T22:32:16.417085Z"
    }
   },
   "outputs": [
    {
     "name": "stdout",
     "output_type": "stream",
     "text": [
      "28135104\n"
     ]
    }
   ],
   "source": [
    "from itertools import accumulate\n",
    "\n",
    "def part2():\n",
    "    repeat_end = list(map(int, (inputstr*10000)[int(inputstr[:7]):][::-1]))\n",
    "    for _ in range(100):\n",
    "        repeat_end = list(accumulate(repeat_end, lambda a,b: (a+b)%10))\n",
    "    print(*repeat_end[::-1][:8], sep='')\n",
    "\n",
    "part2()"
   ]
  }
 ],
 "metadata": {
  "kernelspec": {
   "display_name": "Python 3",
   "language": "python",
   "name": "python3"
  },
  "language_info": {
   "codemirror_mode": {
    "name": "ipython",
    "version": 3
   },
   "file_extension": ".py",
   "mimetype": "text/x-python",
   "name": "python",
   "nbconvert_exporter": "python",
   "pygments_lexer": "ipython3",
   "version": "3.7.0"
  },
  "varInspector": {
   "cols": {
    "lenName": 16,
    "lenType": 16,
    "lenVar": 40
   },
   "kernels_config": {
    "python": {
     "delete_cmd_postfix": "",
     "delete_cmd_prefix": "del ",
     "library": "var_list.py",
     "varRefreshCmd": "print(var_dic_list())"
    },
    "r": {
     "delete_cmd_postfix": ") ",
     "delete_cmd_prefix": "rm(",
     "library": "var_list.r",
     "varRefreshCmd": "cat(var_dic_list()) "
    }
   },
   "types_to_exclude": [
    "module",
    "function",
    "builtin_function_or_method",
    "instance",
    "_Feature"
   ],
   "window_display": false
  }
 },
 "nbformat": 4,
 "nbformat_minor": 2
}
