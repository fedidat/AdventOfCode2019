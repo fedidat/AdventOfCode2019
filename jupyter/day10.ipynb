{
 "cells": [
  {
   "cell_type": "markdown",
   "metadata": {},
   "source": [
    "[current dir](.)"
   ]
  },
  {
   "cell_type": "code",
   "execution_count": 1,
   "metadata": {
    "ExecuteTime": {
     "end_time": "2019-12-11T22:53:57.969813Z",
     "start_time": "2019-12-11T22:53:57.966731Z"
    }
   },
   "outputs": [],
   "source": [
    "filename = 'inputs/day10.txt'\n",
    "with open(filename) as file:\n",
    "    input = [list(l) for l in file.read().splitlines()]"
   ]
  },
  {
   "cell_type": "code",
   "execution_count": 2,
   "metadata": {
    "ExecuteTime": {
     "end_time": "2019-12-11T22:53:57.986563Z",
     "start_time": "2019-12-11T22:53:57.972423Z"
    }
   },
   "outputs": [
    {
     "data": {
      "text/plain": [
       "[['.', '#', '.', '.', '#'],\n",
       " ['.', '#', '.', '.', '.'],\n",
       " ['#', '.', '.', '#', '#'],\n",
       " ['.', '.', '.', '.', '.'],\n",
       " ['.', '.', '.', '.', '.']]"
      ]
     },
     "execution_count": 2,
     "metadata": {},
     "output_type": "execute_result"
    }
   ],
   "source": [
    "[l[:5] for l in input[:5]]"
   ]
  },
  {
   "cell_type": "code",
   "execution_count": 3,
   "metadata": {
    "ExecuteTime": {
     "end_time": "2019-12-11T22:53:58.147708Z",
     "start_time": "2019-12-11T22:53:57.987799Z"
    }
   },
   "outputs": [],
   "source": [
    "from collections import defaultdict\n",
    "from math import atan2, pi\n",
    "\n",
    "pairs = defaultdict(list)\n",
    "\n",
    "def setup():\n",
    "    ast = []\n",
    "    for (i,l) in enumerate(input):\n",
    "        for (j,a) in enumerate(l):\n",
    "            if a == '#':\n",
    "                ast.append((j,i))\n",
    "    for a in ast:\n",
    "        for b in [x for x in ast if x != a]:\n",
    "            pairs[a].append((b, (atan2(a[1]-b[1],a[0]-b[0])-pi/2)%(2*pi), (b[1]-a[1])**2+(b[0]-a[0])**2))\n",
    "        \n",
    "setup()"
   ]
  },
  {
   "cell_type": "markdown",
   "metadata": {},
   "source": [
    "Part 1"
   ]
  },
  {
   "cell_type": "code",
   "execution_count": 4,
   "metadata": {
    "ExecuteTime": {
     "end_time": "2019-12-11T22:53:58.164063Z",
     "start_time": "2019-12-11T22:53:58.149645Z"
    }
   },
   "outputs": [
    {
     "name": "stdout",
     "output_type": "stream",
     "text": [
      "max visible 276\n"
     ]
    }
   ],
   "source": [
    "def part1():\n",
    "    print(\"max visible\", max(len(set([direction for (c, direction, dist) in v])) for v in pairs.values()))\n",
    "\n",
    "part1()"
   ]
  },
  {
   "cell_type": "markdown",
   "metadata": {},
   "source": [
    "Part 2"
   ]
  },
  {
   "cell_type": "code",
   "execution_count": 5,
   "metadata": {
    "ExecuteTime": {
     "end_time": "2019-12-11T22:53:58.184149Z",
     "start_time": "2019-12-11T22:53:58.167270Z"
    }
   },
   "outputs": [
    {
     "name": "stdout",
     "output_type": "stream",
     "text": [
      "200th asteroid is 1321\n"
     ]
    }
   ],
   "source": [
    "def part2():\n",
    "    station = (max(pairs, key=(lambda key: len(set([direction for (c, direction, dist) in pairs[key]])))))\n",
    "    rotation = sorted(pairs[station], key=lambda x: (x[1], x[2]))\n",
    "    i=0\n",
    "    prev_direction = None\n",
    "    while rotation:\n",
    "        for (x, direction, dist) in rotation[:]:\n",
    "            if prev_direction is None or prev_direction != direction:\n",
    "                rotation.remove((x, direction, dist))\n",
    "                prev_direction = direction\n",
    "                i+=1\n",
    "                if i == 200:\n",
    "                    print(\"200th asteroid is\",x[0]*100+x[1])\n",
    "                    return\n",
    "        prev_direction = None\n",
    "\n",
    "part2()"
   ]
  }
 ],
 "metadata": {
  "file_extension": ".py",
  "kernelspec": {
   "display_name": "Python 3",
   "language": "python",
   "name": "python3"
  },
  "language_info": {
   "codemirror_mode": {
    "name": "ipython",
    "version": 3
   },
   "file_extension": ".py",
   "mimetype": "text/x-python",
   "name": "python",
   "nbconvert_exporter": "python",
   "pygments_lexer": "ipython3",
   "version": "3.7.0"
  },
  "mimetype": "text/x-python",
  "name": "python",
  "npconvert_exporter": "python",
  "pygments_lexer": "ipython3",
  "varInspector": {
   "cols": {
    "lenName": 16,
    "lenType": 16,
    "lenVar": 40
   },
   "kernels_config": {
    "python": {
     "delete_cmd_postfix": "",
     "delete_cmd_prefix": "del ",
     "library": "var_list.py",
     "varRefreshCmd": "print(var_dic_list())"
    },
    "r": {
     "delete_cmd_postfix": ") ",
     "delete_cmd_prefix": "rm(",
     "library": "var_list.r",
     "varRefreshCmd": "cat(var_dic_list()) "
    }
   },
   "types_to_exclude": [
    "module",
    "function",
    "builtin_function_or_method",
    "instance",
    "_Feature"
   ],
   "window_display": false
  },
  "version": 3
 },
 "nbformat": 4,
 "nbformat_minor": 2
}
