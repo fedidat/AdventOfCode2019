{
 "cells": [
  {
   "cell_type": "markdown",
   "metadata": {
    "ExecuteTime": {
     "end_time": "2019-12-13T12:38:24.403457Z",
     "start_time": "2019-12-13T12:38:24.393213Z"
    }
   },
   "source": [
    "[current dir](.)"
   ]
  },
  {
   "cell_type": "code",
   "execution_count": 23,
   "metadata": {
    "ExecuteTime": {
     "end_time": "2019-12-14T23:54:39.773397Z",
     "start_time": "2019-12-14T23:54:39.766306Z"
    }
   },
   "outputs": [],
   "source": [
    "import re\n",
    "\n",
    "filename = 'inputs/day14.txt'\n",
    "with open(filename) as file:\n",
    "    input = file.read().splitlines()\n",
    "\n",
    "formulas = {}\n",
    "for line in input:\n",
    "    match = re.search(r'^((?:\\d+ [A-Z]+, )*\\d+ [A-Z]+) => (\\d+ [A-Z]+)$', line)\n",
    "    inputs = []\n",
    "    for input in match.group(1).split(', '):\n",
    "        input_amount, input = input.split(' ')\n",
    "        inputs.append((int(input_amount), input))\n",
    "    output_amount, output = match.group(2).split(' ')\n",
    "    formulas[output] = (int(output_amount), inputs)"
   ]
  },
  {
   "cell_type": "code",
   "execution_count": 24,
   "metadata": {
    "ExecuteTime": {
     "end_time": "2019-12-14T23:54:40.547131Z",
     "start_time": "2019-12-14T23:54:40.534071Z"
    }
   },
   "outputs": [
    {
     "data": {
      "text/plain": [
       "[('HPRK', (5, [(10, 'KVPH')])),\n",
       " ('QKBQL', (5, [(5, 'RSTBJ')])),\n",
       " ('KMFWH', (5, [(2, 'GZWFN'), (21, 'WBPFQ')])),\n",
       " ('MGKSL', (6, [(5, 'JDJB'), (1, 'FSWFT'), (1, 'NKVSV')])),\n",
       " ('KXFTL', (9, [(5, 'BCRHK')]))]"
      ]
     },
     "execution_count": 24,
     "metadata": {},
     "output_type": "execute_result"
    }
   ],
   "source": [
    "list(formulas.items())[:5]"
   ]
  },
  {
   "cell_type": "code",
   "execution_count": 54,
   "metadata": {
    "ExecuteTime": {
     "end_time": "2019-12-15T00:15:01.395886Z",
     "start_time": "2019-12-15T00:15:01.384980Z"
    }
   },
   "outputs": [],
   "source": [
    "from math import ceil\n",
    "from collections import defaultdict\n",
    "\n",
    "def cost_for(target, target_amount, surplus=defaultdict(int)):\n",
    "    if target == 'ORE': #stop condition at ORE\n",
    "        return target_amount\n",
    "    if target_amount <= surplus[target]: #use surplus\n",
    "        surplus[target] -= target_amount\n",
    "        return 0\n",
    "    target_amount -= surplus[target]\n",
    "    surplus[target] = 0\n",
    "    ore = 0\n",
    "    (output_amount, inputs) = formulas[target]\n",
    "    output_batches = ceil(target_amount / output_amount)\n",
    "    for input_amount, input in inputs:\n",
    "        input_amount *= output_batches\n",
    "        ore += cost_for(input, input_amount, surplus)\n",
    "    surplus[target] += output_amount * output_batches - target_amount\n",
    "    return ore"
   ]
  },
  {
   "cell_type": "markdown",
   "metadata": {},
   "source": [
    "Part 1"
   ]
  },
  {
   "cell_type": "code",
   "execution_count": 55,
   "metadata": {
    "ExecuteTime": {
     "end_time": "2019-12-15T00:15:02.709501Z",
     "start_time": "2019-12-15T00:15:02.697986Z"
    }
   },
   "outputs": [
    {
     "name": "stdout",
     "output_type": "stream",
     "text": [
      "628586\n"
     ]
    }
   ],
   "source": [
    "def part1():\n",
    "    print(cost_for('FUEL', 1))\n",
    "\n",
    "part1()"
   ]
  },
  {
   "cell_type": "markdown",
   "metadata": {},
   "source": [
    "Part 2"
   ]
  },
  {
   "cell_type": "code",
   "execution_count": 63,
   "metadata": {
    "ExecuteTime": {
     "end_time": "2019-12-15T00:23:34.766850Z",
     "start_time": "2019-12-15T00:23:34.718971Z"
    }
   },
   "outputs": [
    {
     "name": "stdout",
     "output_type": "stream",
     "text": [
      "3209254\n"
     ]
    }
   ],
   "source": [
    "def part2():\n",
    "    ore = 1000000000000\n",
    "    target_amount = ore // cost_for('FUEL', 1)\n",
    "    fuel = 0\n",
    "    surplus = defaultdict(int)\n",
    "    while ore and target_amount:\n",
    "        new_surplus = defaultdict(int, surplus)\n",
    "        ore_used = cost_for('FUEL', target_amount, new_surplus)\n",
    "        if ore_used > ore: #exhausted this target amount, keep trying to reach half that\n",
    "            target_amount //= 2\n",
    "        else: #can reach this target amount, commit results\n",
    "            fuel += target_amount\n",
    "            ore -= ore_used\n",
    "            surplus = new_surplus\n",
    "    print(fuel)\n",
    "\n",
    "part2()"
   ]
  }
 ],
 "metadata": {
  "kernelspec": {
   "display_name": "Python 3",
   "language": "python",
   "name": "python3"
  },
  "language_info": {
   "codemirror_mode": {
    "name": "ipython",
    "version": 3
   },
   "file_extension": ".py",
   "mimetype": "text/x-python",
   "name": "python",
   "nbconvert_exporter": "python",
   "pygments_lexer": "ipython3",
   "version": "3.7.0"
  },
  "varInspector": {
   "cols": {
    "lenName": 16,
    "lenType": 16,
    "lenVar": 40
   },
   "kernels_config": {
    "python": {
     "delete_cmd_postfix": "",
     "delete_cmd_prefix": "del ",
     "library": "var_list.py",
     "varRefreshCmd": "print(var_dic_list())"
    },
    "r": {
     "delete_cmd_postfix": ") ",
     "delete_cmd_prefix": "rm(",
     "library": "var_list.r",
     "varRefreshCmd": "cat(var_dic_list()) "
    }
   },
   "types_to_exclude": [
    "module",
    "function",
    "builtin_function_or_method",
    "instance",
    "_Feature"
   ],
   "window_display": false
  }
 },
 "nbformat": 4,
 "nbformat_minor": 2
}
