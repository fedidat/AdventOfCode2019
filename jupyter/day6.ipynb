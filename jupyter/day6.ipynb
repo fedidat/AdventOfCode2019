{
 "cells": [
  {
   "cell_type": "markdown",
   "metadata": {},
   "source": [
    "[current dir](.)"
   ]
  },
  {
   "cell_type": "markdown",
   "metadata": {},
   "source": [
    "Part 1"
   ]
  },
  {
   "cell_type": "code",
   "execution_count": 83,
   "metadata": {
    "ExecuteTime": {
     "end_time": "2019-12-07T22:46:52.087170Z",
     "start_time": "2019-12-07T22:46:52.082147Z"
    }
   },
   "outputs": [],
   "source": [
    "filename = 'inputs/day6.txt'\n",
    "with open(filename) as file:\n",
    "    input = [tuple(val.split(\")\")) for val in file.read().splitlines()]"
   ]
  },
  {
   "cell_type": "code",
   "execution_count": 84,
   "metadata": {
    "ExecuteTime": {
     "end_time": "2019-12-07T22:46:52.098709Z",
     "start_time": "2019-12-07T22:46:52.093523Z"
    }
   },
   "outputs": [
    {
     "data": {
      "text/plain": [
       "[('CYP', 'BC6'),\n",
       " ('FPL', 'G1W'),\n",
       " ('6MM', '5MX'),\n",
       " ('CXK', 'W4F'),\n",
       " ('TW9', 'KG3')]"
      ]
     },
     "execution_count": 84,
     "metadata": {},
     "output_type": "execute_result"
    }
   ],
   "source": [
    "input[:5]"
   ]
  },
  {
   "cell_type": "code",
   "execution_count": 85,
   "metadata": {
    "ExecuteTime": {
     "end_time": "2019-12-07T22:46:52.110484Z",
     "start_time": "2019-12-07T22:46:52.100852Z"
    },
    "scrolled": false
   },
   "outputs": [
    {
     "name": "stdout",
     "output_type": "stream",
     "text": [
      "333679\n"
     ]
    }
   ],
   "source": [
    "(orbit_nums, parent) = ({}, {})\n",
    "    \n",
    "def get_parents(x):\n",
    "    if x not in parent:\n",
    "        return 0\n",
    "    if x in orbit_nums:\n",
    "        return orbit_nums[x]\n",
    "    orbit_nums[x] = 1 + get_parents(parent[x])\n",
    "    return orbit_nums[x]\n",
    "\n",
    "def part1():\n",
    "    orbits = input.copy()\n",
    "    for (x,y) in orbits:\n",
    "        parent[y] = x\n",
    "    for (x,y) in orbits:\n",
    "        get_parents(y)\n",
    "    print(sum(orbit_nums.values()))\n",
    "    \n",
    "part1()"
   ]
  },
  {
   "cell_type": "markdown",
   "metadata": {},
   "source": [
    "Part 2"
   ]
  },
  {
   "cell_type": "code",
   "execution_count": 86,
   "metadata": {
    "ExecuteTime": {
     "end_time": "2019-12-07T22:46:52.122211Z",
     "start_time": "2019-12-07T22:46:52.111978Z"
    }
   },
   "outputs": [
    {
     "data": {
      "text/plain": [
       "370"
      ]
     },
     "execution_count": 86,
     "metadata": {},
     "output_type": "execute_result"
    }
   ],
   "source": [
    "def parent_chain(x):\n",
    "    x_parents = []\n",
    "    while x in parent:\n",
    "        x_parents.append(parent[x])\n",
    "        x = parent[x]\n",
    "    return x_parents\n",
    "    \n",
    "def part2():\n",
    "    orbits = input.copy()\n",
    "    for (x,y) in orbits:\n",
    "        parent[y] = x\n",
    "    you_parents = parent_chain('YOU')\n",
    "    san_parents = parent_chain('SAN')\n",
    "        \n",
    "    (you_jumps, san_jumps) = (0, 0)\n",
    "    for node in you_parents:\n",
    "        if node in san_parents:\n",
    "            lca = node\n",
    "            break\n",
    "        you_jumps += 1\n",
    "    cur = parent['SAN']\n",
    "    while cur != lca:\n",
    "        san_jumps += 1\n",
    "        cur = parent[cur]\n",
    "    return you_jumps + san_jumps\n",
    "    \n",
    "part2()"
   ]
  }
 ],
 "metadata": {
  "kernelspec": {
   "display_name": "Python 3",
   "language": "python",
   "name": "python3"
  },
  "language_info": {
   "codemirror_mode": {
    "name": "ipython",
    "version": 3
   },
   "file_extension": ".py",
   "mimetype": "text/x-python",
   "name": "python",
   "nbconvert_exporter": "python",
   "pygments_lexer": "ipython3",
   "version": "3.7.0"
  },
  "varInspector": {
   "cols": {
    "lenName": 16,
    "lenType": 16,
    "lenVar": 40
   },
   "kernels_config": {
    "python": {
     "delete_cmd_postfix": "",
     "delete_cmd_prefix": "del ",
     "library": "var_list.py",
     "varRefreshCmd": "print(var_dic_list())"
    },
    "r": {
     "delete_cmd_postfix": ") ",
     "delete_cmd_prefix": "rm(",
     "library": "var_list.r",
     "varRefreshCmd": "cat(var_dic_list()) "
    }
   },
   "types_to_exclude": [
    "module",
    "function",
    "builtin_function_or_method",
    "instance",
    "_Feature"
   ],
   "window_display": false
  }
 },
 "nbformat": 4,
 "nbformat_minor": 2
}
