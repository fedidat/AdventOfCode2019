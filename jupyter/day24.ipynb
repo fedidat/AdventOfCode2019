{
 "cells": [
  {
   "cell_type": "markdown",
   "metadata": {
    "ExecuteTime": {
     "end_time": "2019-12-13T12:38:24.403457Z",
     "start_time": "2019-12-13T12:38:24.393213Z"
    }
   },
   "source": [
    "[current dir](.)"
   ]
  },
  {
   "cell_type": "code",
   "execution_count": 1,
   "metadata": {
    "ExecuteTime": {
     "end_time": "2019-12-21T23:34:36.146016Z",
     "start_time": "2019-12-21T23:34:36.141189Z"
    }
   },
   "outputs": [],
   "source": [
    "filename = 'inputs/day24.txt'\n",
    "\n",
    "with open(filename) as file:\n",
    "    inputstr = file.read().splitlines()\n",
    "\n",
    "input = [list(l) for l in inputstr]"
   ]
  },
  {
   "cell_type": "code",
   "execution_count": 2,
   "metadata": {
    "ExecuteTime": {
     "end_time": "2019-12-21T23:34:36.167941Z",
     "start_time": "2019-12-21T23:34:36.148252Z"
    }
   },
   "outputs": [],
   "source": [
    "input\n",
    "vert_len = len(input)\n",
    "hori_len = len(input[0])\n",
    "vert_mid = int(len(input)/2)\n",
    "hori_mid = int(len(input[0])/2)"
   ]
  },
  {
   "cell_type": "code",
   "execution_count": 3,
   "metadata": {},
   "outputs": [],
   "source": [
    "from copy import deepcopy\n",
    "     \n",
    "def surrounding_bugs(boards,x,y,z):\n",
    "    cells = 0\n",
    "    if z+1 < len(boards) and (x,y) == (hori_mid,1):\n",
    "        cells += len([boards[z+1][0][i] for i in range(hori_len) if boards[z+1][0][i] == '#'])\n",
    "    elif z+1 < len(boards) and (x,y) == (hori_mid,vert_mid+1):\n",
    "        cells += len([boards[z+1][vert_len-1][i] for i in range(hori_len) if boards[z+1][vert_len-1][i] == '#'])\n",
    "    elif z+1 < len(boards) and (x,y) == (hori_mid-1,vert_mid):\n",
    "        cells += len([boards[z+1][i][0] for i in range(vert_len) if boards[z+1][i][0] == '#'])\n",
    "    elif z+1 < len(boards) and (x,y) == (hori_mid+1,vert_mid):\n",
    "        cells += len([boards[z+1][i][hori_len-1] for i in range(vert_len) if boards[z+1][i][hori_len-1] == '#'])\n",
    "    \n",
    "    offsets = [(-1,0),(1,0),(0,1),(0,-1)]\n",
    "    for (dx,dy) in offsets:\n",
    "        if (x+dx,y+dy) == (hori_mid,vert_mid) and boards[z][y+dy][x+dx] == '?':\n",
    "            continue\n",
    "        if z-1 >= 0 and y+dy < 0:\n",
    "            if boards[z-1][vert_mid-1][hori_mid] == '#':\n",
    "                cells += 1\n",
    "        elif z-1 >= 0 and y+dy >= len(boards[z-1]):\n",
    "            if boards[z-1][vert_mid+1][hori_mid] == '#':\n",
    "                cells += 1\n",
    "        elif z-1 >= 0 and x+dx < 0:\n",
    "            if boards[z-1][vert_mid][hori_mid-1] == '#':\n",
    "                cells += 1\n",
    "        elif z-1 >= 0 and x+dx >= len(boards[z-1][y]):\n",
    "            if boards[z-1][vert_mid][hori_mid+1] == '#':\n",
    "                cells += 1\n",
    "        elif 0 <= y+dy < len(boards[z]) and 0 <= x+dx < len(boards[z][y]) and boards[z][y+dy][x+dx] == '#':\n",
    "            cells += 1\n",
    "            \n",
    "    return cells\n",
    "\n",
    "def cycle(boards):\n",
    "    nextb = deepcopy(boards)\n",
    "    for z, board in enumerate(boards):\n",
    "        for y, row in enumerate(board):\n",
    "            for x, cell in enumerate(row):\n",
    "                cells = surrounding_bugs(boards,x,y,z)\n",
    "                if boards[z][y][x] == '.':\n",
    "                    if cells == 1 or cells == 2:\n",
    "                        nextb[z][y][x] = '#'\n",
    "                elif boards[z][y][x] == '#':\n",
    "                    if cells != 1:\n",
    "                        nextb[z][y][x] = '.'\n",
    "    return nextb "
   ]
  },
  {
   "cell_type": "markdown",
   "metadata": {},
   "source": [
    "Part 1"
   ]
  },
  {
   "cell_type": "code",
   "execution_count": 4,
   "metadata": {
    "ExecuteTime": {
     "end_time": "2019-12-21T23:34:36.335620Z",
     "start_time": "2019-12-21T23:34:36.327828Z"
    }
   },
   "outputs": [
    {
     "name": "stdout",
     "output_type": "stream",
     "text": [
      "identical after 18 turns, diversity: 18400817\n"
     ]
    }
   ],
   "source": [
    "def diversity(board):\n",
    "    div = 0\n",
    "    for y, row in enumerate(board):\n",
    "        div += sum(2**(y * hori_len + x) for x,cell in enumerate(row) if cell == '#')\n",
    "    return div\n",
    "\n",
    "def part1():\n",
    "    boards = [deepcopy(input)]\n",
    "    prevs = []\n",
    "    for i in range(200):\n",
    "        boards = cycle(boards)\n",
    "        if boards in prevs:\n",
    "            print('identical after',i,'turns, diversity:',diversity(boards[0]))\n",
    "            return \n",
    "        prevs.append(boards)\n",
    "\n",
    "part1()"
   ]
  },
  {
   "cell_type": "markdown",
   "metadata": {},
   "source": [
    "Part 2"
   ]
  },
  {
   "cell_type": "code",
   "execution_count": 5,
   "metadata": {
    "ExecuteTime": {
     "end_time": "2019-12-21T23:34:36.647948Z",
     "start_time": "2019-12-21T23:34:36.337177Z"
    }
   },
   "outputs": [
    {
     "name": "stdout",
     "output_type": "stream",
     "text": [
      "number of bugs after 200 turns 1944\n"
     ]
    }
   ],
   "source": [
    "def numbugs(boards):\n",
    "    return \n",
    "\n",
    "def part2():\n",
    "    turns = 200\n",
    "    defaultgrid = [['.' for n in range(hori_len)] for n in range(vert_len)]\n",
    "    defaultgrid[vert_mid][hori_mid] = '?'\n",
    "    boards = [deepcopy(defaultgrid) for n in range(turns*2)]\n",
    "    boards[turns] = deepcopy(input)\n",
    "    boards[turns][vert_mid][hori_mid] = '?'\n",
    "    for i in range(200):\n",
    "        boards = cycle(boards)\n",
    "    print('number of bugs after',turns,'turns',sum(sum(len([c for c in r if c == '#']) for r in b) for b in boards))\n",
    "\n",
    "part2()"
   ]
  }
 ],
 "metadata": {
  "kernelspec": {
   "display_name": "Python 3",
   "language": "python",
   "name": "python3"
  },
  "language_info": {
   "codemirror_mode": {
    "name": "ipython",
    "version": 3
   },
   "file_extension": ".py",
   "mimetype": "text/x-python",
   "name": "python",
   "nbconvert_exporter": "python",
   "pygments_lexer": "ipython3",
   "version": "3.7.4"
  },
  "varInspector": {
   "cols": {
    "lenName": 16,
    "lenType": 16,
    "lenVar": 40
   },
   "kernels_config": {
    "python": {
     "delete_cmd_postfix": "",
     "delete_cmd_prefix": "del ",
     "library": "var_list.py",
     "varRefreshCmd": "print(var_dic_list())"
    },
    "r": {
     "delete_cmd_postfix": ") ",
     "delete_cmd_prefix": "rm(",
     "library": "var_list.r",
     "varRefreshCmd": "cat(var_dic_list()) "
    }
   },
   "types_to_exclude": [
    "module",
    "function",
    "builtin_function_or_method",
    "instance",
    "_Feature"
   ],
   "window_display": false
  }
 },
 "nbformat": 4,
 "nbformat_minor": 2
}
