{
 "cells": [
  {
   "cell_type": "markdown",
   "metadata": {
    "ExecuteTime": {
     "end_time": "2019-12-13T12:38:24.403457Z",
     "start_time": "2019-12-13T12:38:24.393213Z"
    }
   },
   "source": [
    "[current dir](.)"
   ]
  },
  {
   "cell_type": "code",
   "execution_count": 1,
   "metadata": {
    "ExecuteTime": {
     "end_time": "2019-12-21T23:34:36.146016Z",
     "start_time": "2019-12-21T23:34:36.141189Z"
    }
   },
   "outputs": [],
   "source": [
    "from collections import defaultdict\n",
    "from copy import copy\n",
    "import heapq\n",
    "\n",
    "filename = 'inputs/day20.txt'\n",
    "# filename = 'inputs/day20-test1.txt'\n",
    "# filename = 'inputs/day20-test2.txt'\n",
    "# filename = 'inputs/day20-test3.txt'\n",
    "\n",
    "with open(filename) as file:\n",
    "    inputstr = file.read().splitlines()\n",
    "input = [list(n) for n in inputstr]"
   ]
  },
  {
   "cell_type": "code",
   "execution_count": 2,
   "metadata": {
    "ExecuteTime": {
     "end_time": "2019-12-21T23:34:36.167941Z",
     "start_time": "2019-12-21T23:34:36.148252Z"
    }
   },
   "outputs": [
    {
     "data": {
      "text/plain": [
       "[[' ', ' ', ' ', ' ', ' '],\n",
       " [' ', ' ', ' ', ' ', ' '],\n",
       " [' ', ' ', '#', '#', '#'],\n",
       " [' ', ' ', '#', '.', '#'],\n",
       " [' ', ' ', '#', '.', '#']]"
      ]
     },
     "execution_count": 2,
     "metadata": {},
     "output_type": "execute_result"
    }
   ],
   "source": [
    "[l[:5] for l in input[:5]]\n",
    "# [str(l) for l in input]"
   ]
  },
  {
   "cell_type": "code",
   "execution_count": 3,
   "metadata": {
    "ExecuteTime": {
     "end_time": "2019-12-21T23:34:36.325254Z",
     "start_time": "2019-12-21T23:34:36.169997Z"
    }
   },
   "outputs": [
    {
     "name": "stdout",
     "output_type": "stream",
     "text": [
      "portals {('SI', False): ((39,2), (39,1)), ('ZH', False): ((47,2), (47,1)), ('JS', False): ((55,2), (55,1)), ('XC', False): ((63,2), (63,1)), ('QT', False): ((67,2), (67,1)), ('XF', False): ((71,2), (71,1)), ('LE', False): ((77,2), (77,1)), ('ZZ', False): ((81,2), (81,1)), ('WN', False): ((87,2), (87,1)), ('DV', True): ((43,36), (43,37)), ('OV', True): ((47,36), (47,37)), ('FZ', True): ((61,36), (61,37)), ('XF', True): ((63,36), (63,37)), ('PY', True): ((65,36), (65,37)), ('WX', True): ((71,36), (71,37)), ('GS', True): ((79,36), (79,37)), ('RV', True): ((85,36), (85,37)), ('JX', True): ((36,41), (37,41)), ('PY', False): ((2,43), (1,43)), ('PP', True): ((92,45), (91,45)), ('OF', False): ((126,47), (127,47)), ('OV', False): ((2,51), (1,51)), ('ES', True): ((36,53), (37,53)), ('DV', False): ((126,53), (127,53)), ('ZJ', True): ((92,55), (91,55)), ('BL', True): ((36,61), (37,61)), ('GM', False): ((126,61), (127,61)), ('FZ', False): ((2,63), (1,63)), ('TW', True): ((92,63), (91,63)), ('JX', False): ((2,65), (1,65)), ('SI', True): ((36,67), (37,67)), ('RV', False): ((126,71), (127,71)), ('DS', False): ((2,73), (1,73)), ('QT', True): ((92,73), (91,73)), ('PP', False): ((126,75), (127,75)), ('XC', True): ((36,77), (37,77)), ('MJ', True): ((92,77), (91,77)), ('ZJ', False): ((126,83), (127,83)), ('MJ', False): ((2,85), (1,85)), ('GM', True): ((36,87), (37,87)), ('GR', True): ((92,89), (91,89)), ('DS', True): ((36,93), (37,93)), ('GH', False): ((2,95), (1,95)), ('WN', True): ((47,98), (47,97)), ('JS', True): ((53,98), (53,97)), ('LE', True): ((57,98), (57,97)), ('ZH', True): ((67,98), (67,97)), ('GH', True): ((79,98), (79,97)), ('OF', True): ((87,98), (87,97)), ('BL', False): ((45,132), (45,133)), ('AA', False): ((47,132), (47,133)), ('WX', False): ((55,132), (55,133)), ('GR', False): ((59,132), (59,133)), ('GS', False): ((69,132), (69,133)), ('TW', False): ((77,132), (77,133)), ('ES', False): ((87,132), (87,133))}\n",
      "portal_translation {(39,1): ((36,67), (37,67), 'SI'), (47,1): ((67,98), (67,97), 'ZH'), (55,1): ((53,98), (53,97), 'JS'), (63,1): ((36,77), (37,77), 'XC'), (67,1): ((92,73), (91,73), 'QT'), (71,1): ((63,36), (63,37), 'XF'), (77,1): ((57,98), (57,97), 'LE'), (87,1): ((47,98), (47,97), 'WN'), (43,37): ((126,53), (127,53), 'DV'), (47,37): ((2,51), (1,51), 'OV'), (61,37): ((2,63), (1,63), 'FZ'), (63,37): ((71,2), (71,1), 'XF'), (65,37): ((2,43), (1,43), 'PY'), (71,37): ((55,132), (55,133), 'WX'), (79,37): ((69,132), (69,133), 'GS'), (85,37): ((126,71), (127,71), 'RV'), (37,41): ((2,65), (1,65), 'JX'), (1,43): ((65,36), (65,37), 'PY'), (91,45): ((126,75), (127,75), 'PP'), (127,47): ((87,98), (87,97), 'OF'), (1,51): ((47,36), (47,37), 'OV'), (37,53): ((87,132), (87,133), 'ES'), (127,53): ((43,36), (43,37), 'DV'), (91,55): ((126,83), (127,83), 'ZJ'), (37,61): ((45,132), (45,133), 'BL'), (127,61): ((36,87), (37,87), 'GM'), (1,63): ((61,36), (61,37), 'FZ'), (91,63): ((77,132), (77,133), 'TW'), (1,65): ((36,41), (37,41), 'JX'), (37,67): ((39,2), (39,1), 'SI'), (127,71): ((85,36), (85,37), 'RV'), (1,73): ((36,93), (37,93), 'DS'), (91,73): ((67,2), (67,1), 'QT'), (127,75): ((92,45), (91,45), 'PP'), (37,77): ((63,2), (63,1), 'XC'), (91,77): ((2,85), (1,85), 'MJ'), (127,83): ((92,55), (91,55), 'ZJ'), (1,85): ((92,77), (91,77), 'MJ'), (37,87): ((126,61), (127,61), 'GM'), (91,89): ((59,132), (59,133), 'GR'), (37,93): ((2,73), (1,73), 'DS'), (1,95): ((79,98), (79,97), 'GH'), (47,97): ((87,2), (87,1), 'WN'), (53,97): ((55,2), (55,1), 'JS'), (57,97): ((77,2), (77,1), 'LE'), (67,97): ((47,2), (47,1), 'ZH'), (79,97): ((2,95), (1,95), 'GH'), (87,97): ((126,47), (127,47), 'OF'), (45,133): ((36,61), (37,61), 'BL'), (55,133): ((71,36), (71,37), 'WX'), (59,133): ((92,89), (91,89), 'GR'), (69,133): ((79,36), (79,37), 'GS'), (77,133): ((92,63), (91,63), 'TW'), (87,133): ((36,53), (37,53), 'ES')}\n",
      "distances defaultdict(<class 'list'>, {('SI', False): [('DV', True, (127,53), 78)], ('ZH', False): [('OV', True, (1,51), 50)], ('JS', False): [('FZ', True, (1,63), 72)], ('XC', False): [('QT', False, (91,73), 6), ('PY', True, (1,43), 56), ('XF', True, (71,1), 58)], ('QT', False): [('XC', False, (37,77), 6), ('PY', True, (1,43), 52), ('XF', True, (71,1), 54)], ('XF', False): [('WX', True, (55,133), 50)], ('LE', False): [('ZZ', False, (55,133), 14), ('GS', True, (69,133), 96)], ('ZZ', False): [('LE', False, (57,97), 14), ('GS', True, (69,133), 84)], ('WN', False): [('RV', True, (127,71), 60)], ('DV', True): [('SI', False, (37,67), 78)], ('OV', True): [('ZH', False, (67,97), 50)], ('FZ', True): [('JS', False, (53,97), 72)], ('XF', True): [('PY', True, (1,43), 4), ('QT', False, (91,73), 54), ('XC', False, (37,77), 58)], ('PY', True): [('XF', True, (71,1), 4), ('QT', False, (91,73), 52), ('XC', False, (37,77), 56)], ('WX', True): [('XF', False, (63,37), 50)], ('GS', True): [('ZZ', False, (63,37), 84), ('LE', False, (57,97), 96)], ('RV', True): [('WN', False, (47,97), 60)], ('JX', True): [('PY', False, (65,37), 60)], ('PY', False): [('JX', True, (1,65), 60)], ('PP', True): [('OF', False, (87,97), 60)], ('OF', False): [('PP', True, (127,75), 60)], ('OV', False): [('ES', True, (87,133), 68)], ('ES', True): [('OV', False, (47,37), 68)], ('DV', False): [('ZJ', True, (127,83), 68)], ('ZJ', True): [('DV', False, (43,37), 68)], ('BL', True): [('FZ', False, (61,37), 64)], ('GM', False): [('TW', True, (77,133), 80)], ('FZ', False): [('BL', True, (45,133), 64)], ('TW', True): [('GM', False, (37,87), 80)], ('JX', False): [('SI', True, (39,1), 68)], ('SI', True): [('JX', False, (37,41), 68)], ('RV', False): [('QT', True, (67,1), 64)], ('DS', False): [('XC', True, (63,1), 78)], ('QT', True): [('RV', False, (85,37), 64)], ('PP', False): [('MJ', True, (1,85), 68)], ('XC', True): [('DS', False, (37,93), 78)], ('MJ', True): [('PP', False, (91,45), 68)], ('ZJ', False): [('GR', True, (59,133), 64)], ('MJ', False): [('GM', True, (127,61), 64)], ('GM', True): [('MJ', False, (91,77), 64)], ('GR', True): [('ZJ', False, (91,55), 64)], ('DS', True): [('GH', False, (79,97), 60)], ('GH', False): [('DS', True, (1,73), 60)], ('WN', True): [('BL', False, (37,61), 68), ('AA', False, (37,61), 70)], ('JS', True): [('WX', False, (71,37), 68)], ('LE', True): [('GR', False, (91,89), 76)], ('ZH', True): [('GS', False, (79,37), 64)], ('GH', True): [('TW', False, (91,63), 68)], ('OF', True): [('ES', False, (37,53), 54)], ('BL', False): [('AA', False, (37,53), 4), ('WN', True, (87,1), 68)], ('AA', False): [('BL', False, (37,61), 4), ('WN', True, (87,1), 70)], ('WX', False): [('JS', True, (55,1), 68)], ('GR', False): [('LE', True, (77,1), 76)], ('GS', False): [('ZH', True, (47,1), 64)], ('TW', False): [('GH', True, (1,95), 68)], ('ES', False): [('OF', True, (127,47), 54)]})\n"
     ]
    }
   ],
   "source": [
    "class Point:\n",
    "    def __init__(self,x,y):\n",
    "        self.x = x\n",
    "        self.y = y\n",
    "    def __add__(self, other): \n",
    "        return Point(self.x + other.x, self.y + other.y)\n",
    "    def __repr__(self):\n",
    "        return '(' + str(self.x) + \",\" + str(self.y) + ')'\n",
    "    def __eq__(self, other):\n",
    "        return self.x == other.x and self.y == other.y\n",
    "    def __hash__(self):\n",
    "        return hash((self.x, self.y))\n",
    "\n",
    "def portal(pt):\n",
    "    if 0 <= pt.y-1 < len(input) and 0 <= pt.x < len(input[pt.y-1]) and input[pt.y-1][pt.x] == '.':\n",
    "        return (input[pt.y][pt.x] + input[pt.y+1][pt.x], Point(pt.x, pt.y-1))\n",
    "    if 0 <= pt.y+1 < len(input) and 0 <= pt.x < len(input[pt.y+1]) and input[pt.y+1][pt.x] == '.':\n",
    "        return (input[pt.y-1][pt.x] + input[pt.y][pt.x], Point(pt.x, pt.y+1))\n",
    "    if 0 <= pt.y < len(input) and 0 <= pt.x-1 < len(input[pt.y]) and input[pt.y][pt.x-1] == '.':\n",
    "        return (input[pt.y][pt.x] + input[pt.y][pt.x+1], Point(pt.x-1, pt.y))\n",
    "    if 0 <= pt.y < len(input) and 0 <= pt.x+1 < len(input[pt.y]) and input[pt.y][pt.x+1] == '.':\n",
    "        return (input[pt.y][pt.x-1] + input[pt.y][pt.x], Point(pt.x+1, pt.y))\n",
    "    return None\n",
    "\n",
    "def is_inside(portal_pt):\n",
    "    return 3 <= portal_pt.y <= len(input)-3 and 3 <= portal_pt.x <= len(input[0])-3\n",
    "portals = {}\n",
    "for y in range(len(input)):\n",
    "    for x,c in enumerate(input[y]):\n",
    "        pt = Point(x,y)\n",
    "        if c.isalpha() and portal(pt) != None:\n",
    "            (pname, ppoint) = portal(pt)\n",
    "            inside = is_inside(pt)\n",
    "            portals[pname, inside]= (ppoint, Point(x,y))\n",
    "print(\"portals\",portals)\n",
    "\n",
    "portal_translation = {}\n",
    "for ((portal, inside), (dpoint, ppoint)) in [((p,i),pos) for ((p,i), pos) in portals.items() if p not in ['AA','ZZ']]:\n",
    "    other_end = portals[portal, not inside]\n",
    "    portal_translation[ppoint] = (other_end[0], other_end[1], portal)\n",
    "print(\"portal_translation\",portal_translation)\n",
    "\n",
    "aa = portals['AA', False]\n",
    "zz = portals['ZZ', False]\n",
    "\n",
    "directions = [Point(0,-1), Point(0,1), Point(-1, 0), Point(1, 0)]\n",
    "distances = defaultdict(list)\n",
    "for (pname, inside), (dpoint, ppoint) in portals.items():\n",
    "    queue = [(ppoint, dpoint)]\n",
    "    distance = 0\n",
    "    while queue:\n",
    "        next = []\n",
    "        for (origin, position) in queue:\n",
    "            for delta in [d for d in directions if position + d != origin]:\n",
    "                neighbor = position + delta\n",
    "                if input[neighbor.y][neighbor.x] == '.':\n",
    "                    next.append((position, neighbor))\n",
    "                elif input[neighbor.y][neighbor.x].isalpha() and neighbor not in [aa[1], zz[1]]:\n",
    "                    (nposition, norigin, nname) = portal_translation[neighbor]\n",
    "                    distances[(pname, is_inside(ppoint))].append((nname, is_inside(neighbor), norigin, distance))\n",
    "                elif neighbor == zz[1]:\n",
    "                    distances[(pname, is_inside(ppoint))].append(('ZZ', is_inside(neighbor), norigin, distance))\n",
    "                elif neighbor == aa[1]:\n",
    "                    distances[(pname, is_inside(ppoint))].append(('AA', is_inside(neighbor), norigin, distance))\n",
    "        queue = next\n",
    "        distance += 1\n",
    "print(\"distances\",distances)"
   ]
  },
  {
   "cell_type": "markdown",
   "metadata": {},
   "source": [
    "Part 1"
   ]
  },
  {
   "cell_type": "code",
   "execution_count": 4,
   "metadata": {
    "ExecuteTime": {
     "end_time": "2019-12-21T23:34:36.335620Z",
     "start_time": "2019-12-21T23:34:36.327828Z"
    }
   },
   "outputs": [
    {
     "data": {
      "text/plain": [
       "684"
      ]
     },
     "execution_count": 4,
     "metadata": {},
     "output_type": "execute_result"
    }
   ],
   "source": [
    "import heapq\n",
    "\n",
    "def part1():\n",
    "    queue = [(0, 'AA', False)]\n",
    "    while queue:\n",
    "        (pdist, pname, pinside) = heapq.heappop(queue)\n",
    "        if pname == 'ZZ':\n",
    "            return pdist - 1\n",
    "        possible_portals = [(n,i,p,d) for (n,i,p,d) in distances[(pname, pinside)]]\n",
    "        for nname, ninside, npos, ndist in possible_portals:\n",
    "            heapq.heappush(queue, (pdist+ndist+1, nname, not ninside))\n",
    "\n",
    "part1()"
   ]
  },
  {
   "cell_type": "markdown",
   "metadata": {},
   "source": [
    "Part 2"
   ]
  },
  {
   "cell_type": "code",
   "execution_count": 5,
   "metadata": {
    "ExecuteTime": {
     "end_time": "2019-12-21T23:34:36.647948Z",
     "start_time": "2019-12-21T23:34:36.337177Z"
    }
   },
   "outputs": [
    {
     "data": {
      "text/plain": [
       "7758"
      ]
     },
     "execution_count": 5,
     "metadata": {},
     "output_type": "execute_result"
    }
   ],
   "source": [
    "import heapq\n",
    "\n",
    "def part2():\n",
    "    queue = [(0, 'AA', False, 0)]\n",
    "    while queue:\n",
    "        (pdist, pname, pinside, level) = heapq.heappop(queue)\n",
    "        possible_portals = [(n,i,p,d) for (n,i,p,d) in distances[(pname, pinside)]]\n",
    "        for nname, ninside, npos, ndist in possible_portals:\n",
    "            if nname == 'ZZ' and level == 0:\n",
    "                return pdist+ndist\n",
    "            level_next = level + (1 if ninside else -1)\n",
    "            if level_next >= 0:\n",
    "                heapq.heappush(queue, (pdist+ndist+1, nname, not ninside,level_next))\n",
    "\n",
    "part2()"
   ]
  }
 ],
 "metadata": {
  "kernelspec": {
   "display_name": "Python 3",
   "language": "python",
   "name": "python3"
  },
  "language_info": {
   "codemirror_mode": {
    "name": "ipython",
    "version": 3
   },
   "file_extension": ".py",
   "mimetype": "text/x-python",
   "name": "python",
   "nbconvert_exporter": "python",
   "pygments_lexer": "ipython3",
   "version": "3.7.0"
  },
  "varInspector": {
   "cols": {
    "lenName": 16,
    "lenType": 16,
    "lenVar": 40
   },
   "kernels_config": {
    "python": {
     "delete_cmd_postfix": "",
     "delete_cmd_prefix": "del ",
     "library": "var_list.py",
     "varRefreshCmd": "print(var_dic_list())"
    },
    "r": {
     "delete_cmd_postfix": ") ",
     "delete_cmd_prefix": "rm(",
     "library": "var_list.r",
     "varRefreshCmd": "cat(var_dic_list()) "
    }
   },
   "types_to_exclude": [
    "module",
    "function",
    "builtin_function_or_method",
    "instance",
    "_Feature"
   ],
   "window_display": false
  }
 },
 "nbformat": 4,
 "nbformat_minor": 2
}
