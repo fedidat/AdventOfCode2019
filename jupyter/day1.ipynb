{
 "cells": [
  {
   "cell_type": "markdown",
   "metadata": {},
   "source": [
    "[current dir](.)"
   ]
  },
  {
   "cell_type": "markdown",
   "metadata": {},
   "source": [
    "Part 1"
   ]
  },
  {
   "cell_type": "code",
   "execution_count": 1,
   "metadata": {},
   "outputs": [],
   "source": [
    "with open('inputs/day1.txt') as file:\n",
    "    input = [int(val) for val in file.read().splitlines()]"
   ]
  },
  {
   "cell_type": "code",
   "execution_count": 2,
   "metadata": {},
   "outputs": [
    {
     "data": {
      "text/plain": [
       "[87201, 146745, 99430, 67664, 67482]"
      ]
     },
     "execution_count": 2,
     "metadata": {},
     "output_type": "execute_result"
    }
   ],
   "source": [
    "input[:5]"
   ]
  },
  {
   "cell_type": "code",
   "execution_count": 3,
   "metadata": {},
   "outputs": [
    {
     "name": "stdout",
     "output_type": "stream",
     "text": [
      "3361976\n"
     ]
    }
   ],
   "source": [
    "import math\n",
    "\n",
    "def fuel(mass):\n",
    "    return math.floor(mass/3)-2\n",
    "\n",
    "def part1():\n",
    "    print(sum(fuel(n) for n in input))\n",
    "\n",
    "part1()"
   ]
  },
  {
   "cell_type": "markdown",
   "metadata": {},
   "source": [
    "Part 2"
   ]
  },
  {
   "cell_type": "code",
   "execution_count": 4,
   "metadata": {},
   "outputs": [
    {
     "name": "stdout",
     "output_type": "stream",
     "text": [
      "5040085\n"
     ]
    }
   ],
   "source": [
    "def tfuel(mass):\n",
    "    total, current = 0, 0\n",
    "    current = mass\n",
    "    while(current > 0):\n",
    "        current = fuel(current)\n",
    "        total += (current if current > 0 else 0)\n",
    "    return total\n",
    "\n",
    "def part1():\n",
    "    print(sum(tfuel(n) for n in input))\n",
    "\n",
    "part1()"
   ]
  }
 ],
 "metadata": {
  "kernelspec": {
   "display_name": "Python 3",
   "language": "python",
   "name": "python3"
  },
  "language_info": {
   "codemirror_mode": {
    "name": "ipython",
    "version": 3
   },
   "file_extension": ".py",
   "mimetype": "text/x-python",
   "name": "python",
   "nbconvert_exporter": "python",
   "pygments_lexer": "ipython3",
   "version": "3.7.4"
  }
 },
 "nbformat": 4,
 "nbformat_minor": 2
}
