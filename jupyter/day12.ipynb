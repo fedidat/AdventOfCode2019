{
 "cells": [
  {
   "cell_type": "markdown",
   "metadata": {
    "ExecuteTime": {
     "end_time": "2019-12-13T12:38:24.403457Z",
     "start_time": "2019-12-13T12:38:24.393213Z"
    }
   },
   "source": [
    "[current dir](.)"
   ]
  },
  {
   "cell_type": "code",
   "execution_count": 1,
   "metadata": {
    "ExecuteTime": {
     "end_time": "2019-12-13T13:05:07.566289Z",
     "start_time": "2019-12-13T13:05:07.563398Z"
    }
   },
   "outputs": [],
   "source": [
    "filename = 'inputs/day12.txt'\n",
    "with open(filename) as file:\n",
    "    input = file.read().splitlines()\n",
    "    \n",
    "import re\n",
    "moons_orig = [list(map(int,re.findall(r'-?\\d+', s))) for s in input]"
   ]
  },
  {
   "cell_type": "code",
   "execution_count": 2,
   "metadata": {
    "ExecuteTime": {
     "end_time": "2019-12-13T13:05:07.584557Z",
     "start_time": "2019-12-13T13:05:07.571436Z"
    }
   },
   "outputs": [
    {
     "data": {
      "text/plain": [
       "[[14, 15, -2], [17, -3, 4], [6, 12, -13], [-2, 10, -8]]"
      ]
     },
     "execution_count": 2,
     "metadata": {},
     "output_type": "execute_result"
    }
   ],
   "source": [
    "moons_orig"
   ]
  },
  {
   "cell_type": "markdown",
   "metadata": {},
   "source": [
    "Part 1"
   ]
  },
  {
   "cell_type": "code",
   "execution_count": 14,
   "metadata": {
    "ExecuteTime": {
     "end_time": "2019-12-13T13:09:25.600487Z",
     "start_time": "2019-12-13T13:09:25.553358Z"
    }
   },
   "outputs": [
    {
     "name": "stdout",
     "output_type": "stream",
     "text": [
      "10189\n"
     ]
    }
   ],
   "source": [
    "from copy import deepcopy\n",
    "\n",
    "moons = deepcopy(moons_orig)\n",
    "velocities = [[0, 0, 0] for m in moons]\n",
    "\n",
    "def part1():\n",
    "    period = [0, 0, 0]\n",
    "    for x in range(1000):\n",
    "        for x,m1 in enumerate(moons):\n",
    "            for m2 in moons:\n",
    "                for i, (point1, point2) in enumerate(zip(m1, m2)):\n",
    "                    velocities[x][i] += 1 if point1 < point2 else 0 if point1==point2 else -1\n",
    "        for velocity, moon in zip(velocities,moons):\n",
    "            for i in range(len(moon)):\n",
    "                moon[i]+=velocity[i]\n",
    "\n",
    "    print(sum(sum(map(abs, moon))*sum(map(abs, v)) for moon, v in zip(moons,velocities)))\n",
    "\n",
    "part1()"
   ]
  },
  {
   "cell_type": "markdown",
   "metadata": {},
   "source": [
    "Part 2"
   ]
  },
  {
   "cell_type": "code",
   "execution_count": 20,
   "metadata": {
    "ExecuteTime": {
     "end_time": "2019-12-13T13:12:49.510704Z",
     "start_time": "2019-12-13T13:12:48.833196Z"
    }
   },
   "outputs": [
    {
     "name": "stdout",
     "output_type": "stream",
     "text": [
      "469671086427712\n"
     ]
    }
   ],
   "source": [
    "def part2():\n",
    "    period = 1\n",
    "    for points in map(list, list(zip(*moons_orig))):\n",
    "        (velocities, step) = ([0]*len(points), 0)\n",
    "        while step == 0 or any(velocities):\n",
    "            for i, p1 in enumerate(points):\n",
    "                for p2 in points:\n",
    "                    velocities[i] += 1 if p1 < p2 else 0 if p1 == p2 else -1\n",
    "            for i in range(4):\n",
    "                points[i] += velocities[i]\n",
    "            step += 1\n",
    "        period *= step\n",
    "    print(period)\n",
    "\n",
    "part2()"
   ]
  }
 ],
 "metadata": {
  "kernelspec": {
   "display_name": "Python 3",
   "language": "python",
   "name": "python3"
  },
  "language_info": {
   "codemirror_mode": {
    "name": "ipython",
    "version": 3
   },
   "file_extension": ".py",
   "mimetype": "text/x-python",
   "name": "python",
   "nbconvert_exporter": "python",
   "pygments_lexer": "ipython3",
   "version": "3.7.0"
  },
  "varInspector": {
   "cols": {
    "lenName": 16,
    "lenType": 16,
    "lenVar": 40
   },
   "kernels_config": {
    "python": {
     "delete_cmd_postfix": "",
     "delete_cmd_prefix": "del ",
     "library": "var_list.py",
     "varRefreshCmd": "print(var_dic_list())"
    },
    "r": {
     "delete_cmd_postfix": ") ",
     "delete_cmd_prefix": "rm(",
     "library": "var_list.r",
     "varRefreshCmd": "cat(var_dic_list()) "
    }
   },
   "types_to_exclude": [
    "module",
    "function",
    "builtin_function_or_method",
    "instance",
    "_Feature"
   ],
   "window_display": false
  }
 },
 "nbformat": 4,
 "nbformat_minor": 2
}
